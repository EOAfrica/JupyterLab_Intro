{
 "cells": [
  {
   "cell_type": "markdown",
   "id": "02a566cd-889e-48b6-8cd5-e99951b822d8",
   "metadata": {
    "slideshow": {
     "slide_type": "slide"
    },
    "tags": []
   },
   "source": [
    "<table><tr>\n",
    "<tr>\n",
    "    <th style=\"width:30%\"></th>\n",
    "    <th style=\"width:70%\"></th>\n",
    "</tr>    \n",
    "<td width=\"30%\"> <img src=\"./Images/EOAFRICA-logo-transparent-bkg.png\" alt=\"logo\" width=\"100%\" style=\"display:block;\"/> </td>\n",
    "<td width=\"70%\"> <h1 class=\"title\"> <center> Introduction to JupyterLab </center></h1>\n",
    "    <h2 class=\"author\"> <center> Longzhu Shen </center></h2>\n",
    "    <h2 class=\"organisation\"> <center> University of Twente, ITC </center></h2>\n",
    "    <h3 class=\"date\"> <center> 22 Jan. 2022 </center></h3></td>\n",
    "</tr></table>"
   ]
  },
  {
   "cell_type": "markdown",
   "id": "a3257259-e81b-4aeb-9f78-6ea07f0aec6b",
   "metadata": {
    "slideshow": {
     "slide_type": "slide"
    },
    "tags": [],
    "toc-hr-collapsed": true
   },
   "source": [
    "# Introduction\n",
    "\n",
    "![jupyter-logo](./Images/20220122_Jupyter_langs.png)\n"
   ]
  },
  {
   "cell_type": "markdown",
   "id": "1dccbaa1-6be0-400d-8997-e647a4856e52",
   "metadata": {
    "slideshow": {
     "slide_type": "subslide"
    },
    "tags": []
   },
   "source": [
    "## Project Jupyter\n",
    "\n",
    "<table><tr>\n",
    "<tr>\n",
    "    <th style=\"width:30%\"></th>\n",
    "    <th style=\"width:70%\"></th>\n",
    "</tr>     \n",
    "<td width=\"30%\"> <img src=\"./Images/20220122_Jupyter_logo.svg\" alt=\"logo\" width=\"100%\"/> </td>\n",
    "<td width=\"70%\">\n",
    "<ul style=\"line-height: 3.5em; margin-bottom: 10px\">\n",
    "<li style=\"font-size:25px\";>  a non-profit, open-source project </li>\n",
    "<li style=\"font-size:25px\";> interactive data science </li>\n",
    "<li style=\"font-size:25px\";> scientific computing across all programming languages </li>\n",
    "</ul>    \n",
    "</td>    \n",
    "</tr></table>"
   ]
  },
  {
   "cell_type": "markdown",
   "id": "72a1f8f1-2f10-4149-87b6-205b7f4f1b01",
   "metadata": {
    "slideshow": {
     "slide_type": "subslide"
    },
    "tags": []
   },
   "source": [
    "## History\n",
    "\n",
    "- 2014, Fernando Pérez announced a spin-off project from IPython called Project Jupyter.\n",
    "- 2015, GitHub and the Jupyter Project announced native rendering of Jupyter notebooks file format (.ipynb files)."
   ]
  },
  {
   "cell_type": "markdown",
   "id": "ec279585-f56c-4fb5-952c-af334a063a5b",
   "metadata": {
    "slideshow": {
     "slide_type": "subslide"
    },
    "tags": []
   },
   "source": [
    "## Philosophy\n",
    "\n",
    "- support interactive data science and scientific computing across all programming languages \n",
    "- open-source software : free for all to use and released under the liberal terms of the modified BSD license"
   ]
  },
  {
   "cell_type": "markdown",
   "id": "4eba2386-0f85-4504-8896-82f9205eefae",
   "metadata": {
    "slideshow": {
     "slide_type": "subslide"
    },
    "tags": []
   },
   "source": [
    "## Logo\n",
    "\n",
    "<img src=\"./Images/20220122_Galileo_MS_Jupyter.png\" alt=\"Galileo_Jupyter\" width=\"100%\"/>\n",
    "\n",
    "- Inspiration from Galileo's manuscript about Jupyter (⊛) and its stars (✱)"
   ]
  },
  {
   "cell_type": "markdown",
   "id": "3dff9ce5-487d-40c9-992c-ebc6dabb3874",
   "metadata": {
    "slideshow": {
     "slide_type": "subslide"
    },
    "tags": []
   },
   "source": [
    "## Project Overview\n",
    "\n",
    "<img src=\"./Images/20220122_Jupyter_Proj_Overview.png\" alt=\"Galileo_Jupyter\" width=\"60%\"/>"
   ]
  },
  {
   "cell_type": "markdown",
   "id": "46cb6f92-5174-415f-bef8-6b474dcf6c14",
   "metadata": {
    "slideshow": {
     "slide_type": "subslide"
    },
    "tags": []
   },
   "source": [
    "## JupyterLab\n",
    "\n",
    "- next-generation web-based user interface for Project Jupyter\n",
    "- interactive development environment for notebooks, code, and data \n",
    "- allowing onfigurationg and arrangement of workflows in data science, scientific computing, etc. \n",
    "- a modular design with extensions to expand and enrich functionality\n"
   ]
  },
  {
   "cell_type": "markdown",
   "id": "d9d73628-8349-4fd8-bd43-8ac30a75bf67",
   "metadata": {
    "slideshow": {
     "slide_type": "slide"
    },
    "tags": [],
    "toc-hr-collapsed": true
   },
   "source": [
    "# JupyterLab NoteBook Environment\n",
    "\n",
    "<img src=\"./Images/20220122_JupyterLab_look.png\" alt=\"JupyterEnv\" width=\"120%\"/>\n"
   ]
  },
  {
   "cell_type": "markdown",
   "id": "e03fea26-e9a3-4feb-9900-4118cd1d115d",
   "metadata": {
    "slideshow": {
     "slide_type": "subslide"
    },
    "tags": []
   },
   "source": [
    "## Menu Bar\n",
    "\n",
    "- File: actions related to files and directories\n",
    "\n",
    "- Edit: actions related to editing documents and other activities\n",
    "\n",
    "- View: actions that alter the appearance of JupyterLab\n",
    "\n",
    "- Run: actions for running code \n",
    "\n",
    "- Kernel: kernel management\n",
    "\n",
    "- Tabs: tab related activities\n",
    "\n",
    "- Settings: themes and configruations \n",
    "\n",
    "- Help: jupyterlab help topics and references "
   ]
  },
  {
   "cell_type": "markdown",
   "id": "57757233-b506-4121-bdef-e0699a5c07c6",
   "metadata": {
    "slideshow": {
     "slide_type": "subslide"
    },
    "tags": []
   },
   "source": [
    "## Tool Bar\n",
    "\n",
    "<img src=\"./Images/20220122_JupyterLab_toolbar.png\" alt=\"keybindings\" width=\"100%\"/>"
   ]
  },
  {
   "cell_type": "markdown",
   "id": "a535d633-2e8a-4750-aeca-8f4ad4f22931",
   "metadata": {
    "slideshow": {
     "slide_type": "subslide"
    },
    "tags": []
   },
   "source": [
    "## File Manager\n",
    "\n",
    "<img src=\"./Images/20220122_Jupyter_fileManager.png\" alt=\"filemanager\" width=\"100%\"/>"
   ]
  },
  {
   "cell_type": "markdown",
   "id": "d0b74c20-04bf-460f-8f34-652301be8bc7",
   "metadata": {
    "slideshow": {
     "slide_type": "subslide"
    },
    "tags": []
   },
   "source": [
    "## Table of Content\n",
    "\n",
    "<img src=\"./Images/20220122_Jupyter_TOC.png\" alt=\"filemanager\" width=\"100%\"/>"
   ]
  },
  {
   "cell_type": "markdown",
   "id": "b0ab3430-3907-43ff-bd1b-caa4e9bcb8e0",
   "metadata": {
    "slideshow": {
     "slide_type": "subslide"
    },
    "tags": []
   },
   "source": [
    "## Cell Types\n",
    "\n",
    "- Markdown \n",
    "- Code \n",
    "- Raw"
   ]
  },
  {
   "cell_type": "markdown",
   "id": "af3310d1-b8f2-4c9f-bf97-8fdae2378ebb",
   "metadata": {
    "slideshow": {
     "slide_type": "subslide"
    },
    "tags": []
   },
   "source": [
    "### Markdown \n",
    "\n",
    "- popular markup language \n",
    "- a superset of HTML\n",
    "- [more info](https://daringfireball.net/projects/markdown/) "
   ]
  },
  {
   "cell_type": "markdown",
   "id": "a9ab08f1-653b-4014-8b73-6190bc16b7a7",
   "metadata": {
    "slideshow": {
     "slide_type": "subslide"
    },
    "tags": []
   },
   "source": [
    "### Markdown Basics\n",
    "\n",
    "\\*\\*Bolded\\*\\* : **Bolded**\n",
    "\n",
    "\\_Italic\\_ : *Italic*   \n",
    "\n",
    "\\~Crossed off\\~ : ~Crossed off~\n"
   ]
  },
  {
   "cell_type": "markdown",
   "id": "b4f0ac4e-9ae6-436c-ab0f-a31c297db953",
   "metadata": {
    "slideshow": {
     "slide_type": "subslide"
    },
    "tags": []
   },
   "source": [
    "## Markdown Basics\n",
    "\n",
    "add headings by starting a line with one (or multiple) \\# followed by a space\n",
    "\n",
    "<img src=\"./Images/20220122_MD_Headings.png\" alt=\"filemanager\" width=\"80%\"/>"
   ]
  },
  {
   "cell_type": "markdown",
   "id": "cc181eba-e921-40b9-88e2-73e935e7d620",
   "metadata": {
    "slideshow": {
     "slide_type": "subslide"
    },
    "tags": []
   },
   "source": [
    "### Markdown Basics\n",
    "\n",
    "- embedding code \n",
    "\n",
    "    def f(x):\n",
    "        \"\"\"a docstring\"\"\"\n",
    "        return x**2"
   ]
  },
  {
   "cell_type": "markdown",
   "id": "5c10b823-a28c-4f6c-9dc2-04550107f459",
   "metadata": {
    "slideshow": {
     "slide_type": "subslide"
    },
    "tags": []
   },
   "source": [
    "### Markdown Basics\n",
    "\n",
    "- latex equation : \\\\$e^{i\\pi} + 1 = 0\\\\$\n",
    "    \n",
    "    $$e^{i\\pi} + 1 = 0$$\n",
    "    "
   ]
  },
  {
   "cell_type": "markdown",
   "id": "3a74e4f1-3747-49a2-a394-b27203bc47ce",
   "metadata": {
    "slideshow": {
     "slide_type": "subslide"
    },
    "tags": []
   },
   "source": [
    "## Code Cell\n",
    "\n",
    "- running code in a wide range of languages\n",
    "- each language associated with a kernel\n",
    "- \"Ctrl-Enter\" run the current cell\n"
   ]
  },
  {
   "cell_type": "markdown",
   "id": "dbccebc1-dc3e-484a-bc3b-93a8138afd25",
   "metadata": {
    "slideshow": {
     "slide_type": "subslide"
    },
    "tags": []
   },
   "source": [
    "### Raw Cell\n",
    "\n",
    "By default (if no cell format is selected), the cell content is included (without any conversion) in both the HTML and LaTeX output.\n",
    "\n",
    "Raw cells in “reST” format are interpreted as reStructuredText and parsed by Sphinx. "
   ]
  },
  {
   "cell_type": "markdown",
   "id": "856c7b54-9371-472f-a26e-1385a4030270",
   "metadata": {
    "jp-MarkdownHeadingCollapsed": true,
    "slideshow": {
     "slide_type": "subslide"
    },
    "tags": []
   },
   "source": [
    "## Commonly Used Key Bindings\n",
    "\n",
    "<img src=\"./Images/20220122_Jupyter_KeyBindings1.png\" alt=\"keybindings\" width=\"60%\"/>"
   ]
  },
  {
   "cell_type": "markdown",
   "id": "96836e8c-0970-400a-8822-9268eab801b7",
   "metadata": {
    "slideshow": {
     "slide_type": "subslide"
    },
    "tags": []
   },
   "source": [
    "## Ipython Kernel\n",
    "\n",
    "\n",
    "<img src=\"./Images/20220122_Ipython_kernel.png\" alt=\"ipython\" width=\"60%\"/>\n",
    "\n",
    "- a separate process responsible for running code, and things like computing possible completions\n",
    "- can be connected to more than one frontend simultaneously"
   ]
  },
  {
   "cell_type": "markdown",
   "id": "404ad4c3-87d0-44d2-a735-1bdf420d31d0",
   "metadata": {
    "slideshow": {
     "slide_type": "slide"
    },
    "tags": [],
    "toc-hr-collapsed": true
   },
   "source": [
    "# Other Workspaces"
   ]
  },
  {
   "cell_type": "markdown",
   "id": "0074d018-437c-40df-8308-e78c1b2c756a",
   "metadata": {
    "slideshow": {
     "slide_type": "subslide"
    },
    "tags": []
   },
   "source": [
    "## Consoles\n",
    "\n",
    "<img src=\"./Images/20220122_Jupyter_Console.png\" alt=\"console\" width=\"100%\"/>"
   ]
  },
  {
   "cell_type": "markdown",
   "id": "9bf9f8a1-e574-4edd-8f86-00679312724f",
   "metadata": {
    "slideshow": {
     "slide_type": "subslide"
    },
    "tags": []
   },
   "source": [
    "## Consoles\n",
    "\n",
    "<img src=\"./Images/20220122_Jupyter_Console1.png\" alt=\"console\" width=\"100%\"/>\n",
    "\n",
    "- Run code using \"Shift Enter\"\n",
    "- Tab completion (Tab) and tooltips (Shift Tab)"
   ]
  },
  {
   "cell_type": "markdown",
   "id": "c8cc7951-ce3d-4ad3-a536-c802d6c881aa",
   "metadata": {
    "jp-MarkdownHeadingCollapsed": true,
    "slideshow": {
     "slide_type": "subslide"
    },
    "tags": []
   },
   "source": [
    "## Teminals\n",
    "\n",
    "\n",
    "<img src=\"./Images/20220122_Jupyter_Terminal.png\" alt=\"terminal\" width=\"100%\"/>"
   ]
  },
  {
   "cell_type": "markdown",
   "id": "15ff603d-762a-4b1f-8f33-66f1f88b66b7",
   "metadata": {
    "slideshow": {
     "slide_type": "subslide"
    },
    "tags": []
   },
   "source": [
    "## Also\n",
    "\n",
    "- Text File\n",
    "- Markdown File \n"
   ]
  },
  {
   "cell_type": "markdown",
   "id": "61a81fda-2870-4118-8f0d-5b695ba7653b",
   "metadata": {
    "slideshow": {
     "slide_type": "slide"
    },
    "tags": []
   },
   "source": [
    "# File and Formats"
   ]
  },
  {
   "cell_type": "markdown",
   "id": "2b4afe82-2bbc-4aae-bc45-9d2ffa8aff8d",
   "metadata": {
    "slideshow": {
     "slide_type": "subslide"
    },
    "tags": []
   },
   "source": [
    "## Supported formats\n",
    "\n",
    "- markdown files : \".md\"\n",
    "- images : \".jpg\", \".png\", \".svg\", \".gif\", etc\n",
    "- comma-separated file : \".csv\"\n",
    "- json : \".json\"\n",
    "- html : \".html\"\n",
    "- latex : \".tex\"\n",
    "- pdf : \".pdf\""
   ]
  },
  {
   "cell_type": "markdown",
   "id": "05ebbf4b-c936-433b-b8a7-36581e07cafe",
   "metadata": {
    "slideshow": {
     "slide_type": "subslide"
    },
    "tags": [],
    "toc-hr-collapsed": true
   },
   "source": [
    "## Export Notebooks\n",
    "\n",
    "- Asciidoc .asciidoc\n",
    "\n",
    "- HTML .html\n",
    "\n",
    "- Latex .tex\n",
    "\n",
    "- Markdown .md\n",
    "\n",
    "- PDF .pdf\n",
    "\n",
    "- ReStructured Text .rst\n",
    "\n",
    "- Executable Script .py\n",
    "\n",
    "- Reveal.js Slides .html"
   ]
  },
  {
   "cell_type": "markdown",
   "id": "3d689369-5f83-4cc4-8ac9-e267b3087695",
   "metadata": {
    "slideshow": {
     "slide_type": "subslide"
    },
    "tags": []
   },
   "source": [
    "## Examples \n",
    "\n",
    "- generate slides \n",
    "\n",
    "    $ jupyter nbconvert --to slides 20220122_JupyterLab_Intro.ipynb\n",
    "    \n",
    "- generate pdf\n",
    "\n",
    "    $ jupyter nbconvert --to pdf 20220122_JupyterLab_Intro.ipynb\n",
    "\n",
    "- generate html \n",
    "\n",
    "    $ jupyter nbconvert --to html 20220122_JupyterLab_Intro.ipynb"
   ]
  },
  {
   "cell_type": "markdown",
   "id": "5d73a6fd-ee03-4feb-9f71-30f738fd408a",
   "metadata": {
    "slideshow": {
     "slide_type": "slide"
    },
    "tags": [],
    "toc-hr-collapsed": true
   },
   "source": [
    "# Test and Adopt"
   ]
  },
  {
   "cell_type": "markdown",
   "id": "76550e58-3081-4f31-ac34-5148b9aeaef3",
   "metadata": {
    "slideshow": {
     "slide_type": "subslide"
    },
    "tags": []
   },
   "source": [
    "## [Test out online](https://jupyter.org/try)\n",
    "\n",
    "![TryJupyeter](./Images/20220122_Jupyter_try.png)"
   ]
  },
  {
   "cell_type": "markdown",
   "id": "ded59eb9-81fe-4dec-bceb-15f0f5748f1b",
   "metadata": {
    "jp-MarkdownHeadingCollapsed": true,
    "slideshow": {
     "slide_type": "subslide"
    },
    "tags": []
   },
   "source": [
    "## Install JupyterLab\n",
    "\n",
    "- with pip \n",
    "\n",
    "    $ pip install jupyterlab\n",
    "\n",
    "- with conda\n",
    "\n",
    "    $ conda install -c conda-forge jupyterlab"
   ]
  },
  {
   "cell_type": "markdown",
   "id": "b0d03492-13dc-45b5-bc1f-d60eccf5f435",
   "metadata": {
    "slideshow": {
     "slide_type": "subslide"
    },
    "tags": []
   },
   "source": [
    "## Start JupyterLab\n",
    "   \n",
    "Simply launch from a terminal \n",
    "\n",
    "    $ jupyter-lab \n",
    "    \n",
    "By default, a browser will open up to reveal the jupyterlab environment.     "
   ]
  },
  {
   "cell_type": "markdown",
   "id": "6bbad36d-ec26-420a-8db6-a4f0b489381a",
   "metadata": {
    "slideshow": {
     "slide_type": "subslide"
    },
    "tags": []
   },
   "source": [
    "## Interface\n",
    "\n",
    "\n",
    "<img src=\"./Images/20220122_Jupyter_notebook_interface.png\" alt=\"interface\" width=\"100%\"/>"
   ]
  },
  {
   "cell_type": "markdown",
   "id": "9d3d4913-3ac0-4772-ba2a-ddd14c17f3a4",
   "metadata": {
    "slideshow": {
     "slide_type": "slide"
    },
    "tags": []
   },
   "source": [
    "# [Extensions](https://jupyterlab.readthedocs.io/en/stable/user/extensions.html) \n"
   ]
  },
  {
   "cell_type": "markdown",
   "id": "b33b255d-2313-41eb-a40e-bfd5861a3713",
   "metadata": {
    "slideshow": {
     "slide_type": "subslide"
    },
    "tags": []
   },
   "source": [
    "## [Drawio](https://github.com/QuantStack/jupyterlab-drawio) : draw schemes\n",
    "\n",
    "\n",
    "<img src=\"./Images/20220122_Jupyter_Ext_drawio.png\" alt=\"drawio\" width=\"100%\"/>"
   ]
  },
  {
   "cell_type": "markdown",
   "id": "e87a0c50-6702-4e8c-b8bb-d736e1b96a81",
   "metadata": {
    "slideshow": {
     "slide_type": "subslide"
    },
    "tags": []
   },
   "source": [
    "## [Bokeh](https://github.com/bokeh/jupyter_bokeh) : rendering Bokeh content within Jupyter\n",
    "\n",
    "<img src=\"./Images/20220122_jupyter_Ext_bokeh.gif\" alt=\"bokeh\" width=\"100%\"/>"
   ]
  },
  {
   "cell_type": "markdown",
   "id": "5382d06a-83f0-4fb6-a6bd-e4f97be92425",
   "metadata": {
    "slideshow": {
     "slide_type": "slide"
    },
    "tags": []
   },
   "source": [
    "# \n",
    "<h1 class=\"title\"> <center> Thanks for your attention! </center></h1>"
   ]
  },
  {
   "cell_type": "markdown",
   "id": "81e09eef-0ac5-4ff3-9e64-877b585488e6",
   "metadata": {
    "slideshow": {
     "slide_type": "slide"
    },
    "tags": []
   },
   "source": [
    "# References\n",
    "\n",
    "- https://jupyter.org/\n",
    "- https://jupyterlab.readthedocs.io/en/stable/index.html\n",
    "- https://en.wikipedia.org/wiki/Project_Jupyter\n",
    "- https://github.com/mauhai/awesome-jupyterlab\n",
    "- https://github.com/jupyterlab/jupyterlab-git\n",
    "- https://realpython.com/jupyter-notebook-introduction\n",
    "- https://github.com/jupyterlab/scipy2019-jupyterlab-tutorial"
   ]
  }
 ],
 "metadata": {
  "kernelspec": {
   "display_name": "Python 3 (ipykernel)",
   "language": "python",
   "name": "python3"
  },
  "language_info": {
   "codemirror_mode": {
    "name": "ipython",
    "version": 3
   },
   "file_extension": ".py",
   "mimetype": "text/x-python",
   "name": "python",
   "nbconvert_exporter": "python",
   "pygments_lexer": "ipython3",
   "version": "3.10.1"
  },
  "toc-showmarkdowntxt": false
 },
 "nbformat": 4,
 "nbformat_minor": 5
}
